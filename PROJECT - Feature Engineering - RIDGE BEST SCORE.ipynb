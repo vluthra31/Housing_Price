{
 "cells": [
  {
   "cell_type": "markdown",
   "metadata": {},
   "source": [
    "Feature Selection"
   ]
  },
  {
   "cell_type": "code",
   "execution_count": 205,
   "metadata": {
    "collapsed": true
   },
   "outputs": [],
   "source": [
    "import pandas as pd\n",
    "import numpy as np\n",
    "%matplotlib inline\n",
    "import matplotlib\n",
    "from matplotlib import pyplot as plt"
   ]
  },
  {
   "cell_type": "code",
   "execution_count": 206,
   "metadata": {
    "collapsed": true
   },
   "outputs": [],
   "source": [
    "train_df = pd.read_csv('~/Downloads/Kaggle_Workflow/train.csv', keep_default_na=False)\n",
    "test_df = pd.read_csv('~/Downloads/Kaggle_Workflow/test.csv', keep_default_na=False)\n",
    "\n",
    "train_ID = train_df['Id']\n",
    "test_ID = test_df['Id']\n",
    "\n",
    "train = pd.concat([train_df,test_df],axis=0)\n",
    "train = train.reset_index().drop('index', axis = 1)"
   ]
  },
  {
   "cell_type": "code",
   "execution_count": 207,
   "metadata": {
    "collapsed": true
   },
   "outputs": [],
   "source": [
    "train = train.drop(train[(train['GrLivArea']>4000) & (train['SalePrice']<200000)].index)"
   ]
  },
  {
   "cell_type": "code",
   "execution_count": 208,
   "metadata": {},
   "outputs": [],
   "source": [
    "train = train.drop(labels = 'MiscFeature', axis = 1)\n",
    "train[\"Alley\"] = train[\"Alley\"].fillna(\"None\")\n",
    "train[\"Fence\"] = train[\"Fence\"].fillna(\"None\")\n",
    "train[\"MasVnrType\"] = train[\"MasVnrType\"].fillna(\"None\")\n",
    "train[\"MasVnrArea\"] = train[\"MasVnrArea\"].fillna(0)\n",
    "train['MSZoning'] = train['MSZoning'].fillna(train['MSZoning'].mode()[0])\n",
    "train[\"Functional\"] = train[\"Functional\"].fillna(\"Typ\")\n",
    "train['Electrical'] = train['Electrical'].fillna(train['Electrical'].mode()[0])\n",
    "train['Exterior1st'] = train['Exterior1st'].fillna(train['Exterior1st'].mode()[0])\n",
    "train['Exterior2nd'] = train['Exterior2nd'].fillna(train['Exterior2nd'].mode()[0])\n",
    "train['SaleType'] = train['SaleType'].fillna(train['SaleType'].mode()[0])"
   ]
  },
  {
   "cell_type": "code",
   "execution_count": 209,
   "metadata": {},
   "outputs": [
    {
     "name": "stdout",
     "output_type": "stream",
     "text": [
      "changed all variables\n"
     ]
    }
   ],
   "source": [
    "train.Id = train.Id.astype(int)\n",
    "train.MSSubClass = train.MSSubClass.astype('category')\n",
    "train.MSZoning = train.MSZoning.astype('category')\n",
    "train.LotFrontage = train.LotFrontage.astype(int, errors='ignore').replace('NA', np.NaN)\n",
    "train.Street = train.Street.astype('category')\n",
    "train.Alley = train.Alley.astype('category')\n",
    "train.LotShape = train.LotShape.astype('category')\n",
    "train.LandContour = train.LandContour.astype('category')\n",
    "train.Utilities = train.Utilities.astype('category')\n",
    "train.LotConfig = train.LotConfig.astype('category')\n",
    "train.LandSlope = train.LandSlope.astype('category')\n",
    "train.Neighborhood = train.Neighborhood.astype('category')\n",
    "train.Condition1 = train.Condition1.astype('category')\n",
    "train.Condition2 = train.Condition2.astype('category')\n",
    "train.BldgType = train.BldgType.astype('category')\n",
    "train.HouseStyle = train.HouseStyle.astype('category')\n",
    "train.OverallQual = train.OverallQual.astype('category')\n",
    "train.OverallCond = train.OverallCond.astype('category')\n",
    "train.YearBuilt = train.YearBuilt.astype(int, errors='ignore').replace('NA', np.NaN)\n",
    "train.YearRemodAdd = train.YearRemodAdd.astype(int, errors='ignore').replace('NA', np.NaN)\n",
    "train.RoofStyle = train.RoofStyle.astype('category')\n",
    "train.RoofMatl = train.RoofMatl.astype('category')\n",
    "train.Exterior1st = train.Exterior1st.astype('category')\n",
    "train.Exterior2nd = train.Exterior2nd.astype('category')\n",
    "train.MasVnrType = train.MasVnrType.astype('category')\n",
    "train.MasVnrArea = train.MasVnrArea.astype(int, errors='ignore').replace('NA', np.NaN)\n",
    "#train.ExterQual = train.ExterQual.astype('category')\n",
    "#train.ExterCond = train.ExterCond.astype('category')\n",
    "train.Foundation = train.Foundation.astype('category')\n",
    "#train.BsmtQual = train.BsmtQual.astype('category')\n",
    "#train.BsmtCond = train.BsmtCond.astype('category')\n",
    "train.BsmtExposure = train.BsmtExposure.astype('category')\n",
    "train.BsmtFinType1 = train.BsmtFinType1.astype('category')\n",
    "train.BsmtFinSF1 = train.BsmtFinSF1.astype(int, errors='ignore').replace('NA', np.NaN)\n",
    "train.BsmtFinType2 = train.BsmtFinType2.astype('category')\n",
    "train.BsmtFinSF2 = train.BsmtFinSF2.astype(int, errors='ignore').replace('NA', np.NaN)\n",
    "train.BsmtUnfSF = train.BsmtUnfSF.astype(int, errors='ignore').replace('NA', np.NaN)\n",
    "train.TotalBsmtSF = train.TotalBsmtSF.astype(int, errors='ignore').replace('NA', np.NaN)\n",
    "train.Heating = train.Heating.astype('category')\n",
    "train.HeatingQC = train.HeatingQC.astype('category')\n",
    "train.CentralAir = train.CentralAir.astype('category')\n",
    "train.Electrical = train.Electrical.astype('category')\n",
    "train['1stFlrSF'] = train['1stFlrSF'].astype(int, errors='ignore').replace('NA', np.NaN)\n",
    "train['2ndFlrSF'] = train['2ndFlrSF'].astype(int, errors='ignore').replace('NA', np.NaN)\n",
    "train.LowQualFinSF = train.LowQualFinSF.astype(int, errors='ignore').replace('NA', np.NaN)\n",
    "train.GrLivArea = train.GrLivArea.astype(int, errors='ignore').replace('NA', np.NaN)\n",
    "train.BsmtFullBath = train.BsmtFullBath.astype(int, errors='ignore').replace('NA', np.NaN)\n",
    "train.BsmtHalfBath = train.BsmtHalfBath.astype(int, errors='ignore').replace('NA', np.NaN)\n",
    "train.FullBath = train.FullBath.astype(int, errors='ignore').replace('NA', np.NaN)\n",
    "train.HalfBath = train.HalfBath.astype(int, errors='ignore').replace('NA', np.NaN)\n",
    "train.BedroomAbvGr = train.BedroomAbvGr.astype(int, errors='ignore').replace('NA', np.NaN)\n",
    "train.KitchenAbvGr = train.KitchenAbvGr.astype(int, errors='ignore').replace('NA', np.NaN)\n",
    "#train.KitchenQual = train.KitchenQual.astype('category')\n",
    "train.TotRmsAbvGrd = train.TotRmsAbvGrd.astype(int, errors='ignore').replace('NA', np.NaN)\n",
    "train.Functional = train.Functional.astype('category')\n",
    "train.Fireplaces = train.Fireplaces.astype(int, errors='ignore').replace('NA', np.NaN)\n",
    "#train.FireplaceQu = train.FireplaceQu.astype('category')\n",
    "train.GarageType = train.GarageType.astype('category')\n",
    "train.GarageYrBlt = train.GarageYrBlt.astype('category')\n",
    "train.GarageFinish = train.GarageFinish.astype('category')\n",
    "train.GarageCars = train.GarageCars.astype(int, errors='ignore').replace('NA', np.NaN)\n",
    "train.GarageArea = train.GarageArea.astype(int, errors='ignore').replace('NA', np.NaN)\n",
    "#train.GarageQual = train.GarageQual.astype('category')\n",
    "train.GarageCond = train.GarageCond.astype('category')\n",
    "train.PavedDrive = train.PavedDrive.astype('category')\n",
    "train.WoodDeckSF = train.WoodDeckSF.astype(int, errors='ignore').replace('NA', np.NaN)\n",
    "train.OpenPorchSF = train.OpenPorchSF.astype(int, errors='ignore').replace('NA', np.NaN)\n",
    "train.EnclosedPorch = train.EnclosedPorch.astype(int, errors='ignore').replace('NA', np.NaN)\n",
    "train['3SsnPorch'] = train['3SsnPorch'].astype(int, errors='ignore').replace('NA', np.NaN)\n",
    "train.ScreenPorch = train.ScreenPorch.astype(int, errors='ignore').replace('NA', np.NaN)\n",
    "train.PoolArea = train.PoolArea.astype(int, errors='ignore').replace('NA', np.NaN)\n",
    "train.PoolQC = train.PoolQC.astype('category')\n",
    "train.Fence = train.Fence.astype('category')\n",
    "#train.MiscFeature = train.MiscFeature.astype('category')\n",
    "train.MiscVal = train.MiscVal.astype(int, errors='ignore').replace('NA', np.NaN)\n",
    "train['Remodeled'] = 0\n",
    "train.loc[train['YearBuilt'] == train['YearRemodAdd'],'Remodeled'] = 'No'\n",
    "train.loc[train['YearBuilt'] != train['YearRemodAdd'],'Remodeled'] = 'Yes'\n",
    "train.Remodeled = train.Remodeled.astype('category')\n",
    "train.YearBuilt = train.YearBuilt.astype('category')\n",
    "train.YearRemodAdd = train.YearRemodAdd.astype('category')\n",
    "train.MoSold = train.MoSold.astype('category')\n",
    "train.YrSold = train.YrSold.astype('category')\n",
    "train.SaleType = train.SaleType.astype('category')\n",
    "train.SaleCondition = train.SaleCondition.astype('category')\n",
    "train.SalePrice = train.SalePrice.astype(int, errors='ignore').replace('NA', np.NaN)\n",
    "print('changed all variables')"
   ]
  },
  {
   "cell_type": "code",
   "execution_count": 210,
   "metadata": {},
   "outputs": [
    {
     "name": "stderr",
     "output_type": "stream",
     "text": [
      "/Users/FlexLex/anaconda/envs/py35/lib/python3.5/site-packages/pandas/core/indexing.py:179: SettingWithCopyWarning: \n",
      "A value is trying to be set on a copy of a slice from a DataFrame\n",
      "\n",
      "See the caveats in the documentation: http://pandas.pydata.org/pandas-docs/stable/indexing.html#indexing-view-versus-copy\n",
      "  self._setitem_with_indexer(indexer, value)\n"
     ]
    }
   ],
   "source": [
    "train['ExterQual'].loc[train['ExterQual'] == 'NA'] = 0\n",
    "train['ExterQual'].loc[train['ExterQual'] == 'Po'] = 1\n",
    "train['ExterQual'].loc[train['ExterQual'] == 'Fa'] = 2\n",
    "train['ExterQual'].loc[train['ExterQual'] == 'TA'] = 3\n",
    "train['ExterQual'].loc[train['ExterQual'] == 'Gd'] = 4\n",
    "train['ExterQual'].loc[train['ExterQual'] == 'Ex'] = 5\n",
    "train['BsmtQual'].loc[train['BsmtQual'] == 'NA'] = 0\n",
    "train['BsmtQual'].loc[train['BsmtQual'] == 'Po'] = 1\n",
    "train['BsmtQual'].loc[train['BsmtQual'] == 'Fa'] = 2\n",
    "train['BsmtQual'].loc[train['BsmtQual'] == 'TA'] = 3\n",
    "train['BsmtQual'].loc[train['BsmtQual'] == 'Gd'] = 4\n",
    "train['BsmtQual'].loc[train['BsmtQual'] == 'Ex'] = 5\n",
    "train['ExterCond'].loc[train['ExterCond'] == 'NA'] = 0\n",
    "train['ExterCond'].loc[train['ExterCond'] == 'Po'] = 1\n",
    "train['ExterCond'].loc[train['ExterCond'] == 'Fa'] = 2\n",
    "train['ExterCond'].loc[train['ExterCond'] == 'TA'] = 3\n",
    "train['ExterCond'].loc[train['ExterCond'] == 'Gd'] = 4\n",
    "train['ExterCond'].loc[train['ExterCond'] == 'Ex'] = 5\n",
    "train['BsmtCond'].loc[train['BsmtCond'] == 'NA'] = 0\n",
    "train['BsmtCond'].loc[train['BsmtCond'] == 'Po'] = 1\n",
    "train['BsmtCond'].loc[train['BsmtCond'] == 'Fa'] = 2\n",
    "train['BsmtCond'].loc[train['BsmtCond'] == 'TA'] = 3\n",
    "train['BsmtCond'].loc[train['BsmtCond'] == 'Gd'] = 4\n",
    "train['BsmtCond'].loc[train['BsmtCond'] == 'Ex'] = 5\n",
    "train['KitchenQual'].loc[train['KitchenQual'] == 'NA'] = 0\n",
    "train['KitchenQual'].loc[train['KitchenQual'] == 'Po'] = 1\n",
    "train['KitchenQual'].loc[train['KitchenQual'] == 'Fa'] = 2\n",
    "train['KitchenQual'].loc[train['KitchenQual'] == 'TA'] = 3\n",
    "train['KitchenQual'].loc[train['KitchenQual'] == 'Gd'] = 4\n",
    "train['KitchenQual'].loc[train['KitchenQual'] == 'Ex'] = 5\n",
    "train['FireplaceQu'].loc[train['FireplaceQu'] == 'NA'] = 0\n",
    "train['FireplaceQu'].loc[train['FireplaceQu'] == 'Po'] = 1\n",
    "train['FireplaceQu'].loc[train['FireplaceQu'] == 'Fa'] = 2\n",
    "train['FireplaceQu'].loc[train['FireplaceQu'] == 'TA'] = 3\n",
    "train['FireplaceQu'].loc[train['FireplaceQu'] == 'Gd'] = 4\n",
    "train['FireplaceQu'].loc[train['FireplaceQu'] == 'Ex'] = 5\n",
    "train['GarageQual'].loc[train['GarageQual'] == 'NA'] = 0\n",
    "train['GarageQual'].loc[train['GarageQual'] == 'Po'] = 1\n",
    "train['GarageQual'].loc[train['GarageQual'] == 'Fa'] = 2\n",
    "train['GarageQual'].loc[train['GarageQual'] == 'TA'] = 3\n",
    "train['GarageQual'].loc[train['GarageQual'] == 'Gd'] = 4\n",
    "train['GarageQual'].loc[train['GarageQual'] == 'Ex'] = 5"
   ]
  },
  {
   "cell_type": "code",
   "execution_count": null,
   "metadata": {},
   "outputs": [],
   "source": []
  },
  {
   "cell_type": "code",
   "execution_count": null,
   "metadata": {
    "collapsed": true
   },
   "outputs": [],
   "source": []
  },
  {
   "cell_type": "code",
   "execution_count": 211,
   "metadata": {
    "collapsed": true
   },
   "outputs": [],
   "source": [
    "#Creating new features based on the actual variables:\n",
    "train['HasBasement'] = 0\n",
    "train.loc[train['BsmtQual'] == 'NA','HasBasement'] = 'No'\n",
    "train.loc[train['BsmtQual'] != 'NA','HasBasement'] = 'Yes'\n",
    "train.HasBasement = train.HasBasement.astype('category')"
   ]
  },
  {
   "cell_type": "code",
   "execution_count": 212,
   "metadata": {
    "collapsed": true
   },
   "outputs": [],
   "source": [
    "#Split into numeric and categorical columns\n",
    "housing = train.copy()\n",
    "housing_id = housing.Id\n",
    "housing = housing.drop('Id', axis=1)\n",
    "housing_target = housing['SalePrice']\n",
    "\n",
    "housing_numeric = housing.select_dtypes(include = ['int64','object','float64'])\n",
    "housing_factor = housing.select_dtypes(include = ['category'])\n",
    "\n",
    "housing_numeric = housing_numeric.drop('SalePrice', axis = 1)"
   ]
  },
  {
   "cell_type": "code",
   "execution_count": 213,
   "metadata": {
    "collapsed": true
   },
   "outputs": [],
   "source": [
    "#Impute zero for missing values and standardize\n",
    "housing_numeric1 = housing_numeric.fillna(0)\n",
    "housing_factor1 = pd.concat([housing_factor, housing_target], axis = 1)"
   ]
  },
  {
   "cell_type": "code",
   "execution_count": 214,
   "metadata": {},
   "outputs": [],
   "source": [
    "#YOU HAVE 2 BIG SALEPRICE -- TRY DROPPING IT AT THE END TO CHECK THE RESULTS\n",
    "# #2ndFlrSF\n",
    "housing_numeric1['HasSecondFloor'] = 0\n",
    "#housing_numeric1.loc[housing_numeric1['2ndFlrSF'] != 0,'HasSecondFloor'] = 1\n",
    "#housing_numeric1 = housing_numeric1.drop('2ndFlrSF', axis = 1)\n",
    "# #LowQualFinSF \n",
    "#housing_numeric1 = housing_numeric1.drop('LowQualFinSF', axis = 1)\n",
    "# #GrLivArea\n",
    "#housing_numeric1['GrLivArea2'] = (housing_numeric1['GrLivArea']**(1/2))\n",
    "#housing_numeric1 = housing_numeric1.drop('GrLivArea', axis = 1)\n",
    "# #REMOVING 2 OUTLIERS ON GRLIVAREA (#ID691 and #ID1182)\n",
    "# #BsmtFinSF1\n",
    "#housing_numeric1 = housing_numeric1.drop('BsmtFinSF1', axis = 1)\n",
    "# #BsmtFinSF2\n",
    "housing_numeric1 = housing_numeric1.drop('BsmtFinSF2', axis = 1)\n",
    "# #BsmtUnfSF\n",
    "housing_numeric1 = housing_numeric1.drop('BsmtUnfSF', axis = 1)\n",
    "# #TotalBsmtSF\n",
    "housing_numeric1['TotalBsmtSF'] = housing_numeric1['TotalBsmtSF'].astype(int)\n",
    "housing_numeric1['TotalBsmtSF2'] = housing_numeric1['TotalBsmtSF']**(1/3)\n",
    "housing_numeric1 = housing_numeric1.drop('TotalBsmtSF', axis = 1)\n",
    "# #BsmtHalfBath\n",
    "# #95% is zero. I will drop it.\n",
    "housing_numeric1 = housing_numeric1.drop('BsmtHalfBath', axis = 1)\n",
    "# #OpenPorchSF\n",
    "housing_numeric1 = housing_numeric1.drop('OpenPorchSF', axis = 1)\n",
    "# #3SsnPorch\n",
    "housing_numeric1 = housing_numeric1.drop('3SsnPorch', axis = 1)\n",
    "# #FullBath and HalfBath\n",
    "housing_numeric1['HalfBath2'] = housing_numeric1['HalfBath']\n",
    "housing_numeric1.loc[housing_numeric1['HalfBath'] >= 1,'HalfBath2'] = .5\n",
    "housing_numeric1['Bathrooms'] = housing_numeric1['FullBath'] + housing_numeric1['HalfBath2']\n",
    "housing_numeric1 = housing_numeric1.drop('FullBath', axis = 1)\n",
    "housing_numeric1 = housing_numeric1.drop('HalfBath', axis = 1)\n",
    "housing_numeric1 = housing_numeric1.drop('HalfBath2', axis = 1)\n",
    "# #GarageArea and GarageCars\n",
    "housing_numeric1 = housing_numeric1.drop('GarageArea', axis = 1)\n",
    "# #LotArea\n",
    "housing_numeric1['LotArea2'] = np.log(housing_numeric1['LotArea']+1)\n",
    "housing_numeric1 = housing_numeric1.drop('LotArea', axis = 1)\n",
    "# #REMOVING 1 OUTLIERS FROM THE DATABASE\n",
    "# #LotFrontage\n",
    "housing_numeric1['LotFrontage'] = housing_numeric1['LotFrontage'].astype(int)\n",
    "housing_numeric1['LotFrontage2'] = (housing_numeric1['LotFrontage']**(1/2))\n",
    "housing_numeric1 = housing_numeric1.drop('LotFrontage', axis = 1)\n",
    "# #MasVnrArea\n",
    "# #60% is zero\n",
    "housing_numeric1 = housing_numeric1.drop('MasVnrArea', axis = 1)\n",
    "# #MiscVal\n",
    "# #Creating a ShedSF column\n",
    "housing_numeric1['ShedSF'] = 0\n",
    "#housing_numeric1['MiscFeature'] = housing_factor1['MiscFeature']\n",
    "#housing_numeric1.loc[housing_numeric1['MiscFeature'] == 'Shed', 'ShedSF'] = housing_numeric1['MiscVal']\n",
    "#housing_numeric1 = housing_numeric1.drop('MiscFeature', axis = 1)\n",
    "housing_numeric1 = housing_numeric1.drop('MiscVal', axis = 1)\n",
    "# #Not using the other information\n",
    "# #TotRmsAbvGrd\n",
    "housing_numeric1 = housing_numeric1.drop('TotRmsAbvGrd', axis = 1)"
   ]
  },
  {
   "cell_type": "code",
   "execution_count": 215,
   "metadata": {
    "collapsed": true
   },
   "outputs": [],
   "source": [
    "#Removing the outliers from the dataset\n",
    "housing_numeric1 = housing_numeric1.drop(housing_numeric1.index[691])\n",
    "housing_numeric1 = housing_numeric1.drop(housing_numeric1.index[1128])\n",
    "housing_numeric1 = housing_numeric1.drop(housing_numeric1.index[1182])\n",
    "housing_target = housing_target.drop(housing_target.index[691])\n",
    "housing_target = housing_target.drop(housing_target.index[1128])\n",
    "housing_target = housing_target.drop(housing_target.index[1182])\n",
    "housing_factor1 = housing_factor1.drop(housing_factor1.index[691])\n",
    "housing_factor1 = housing_factor1.drop(housing_factor1.index[1128])\n",
    "housing_factor1 = housing_factor1.drop(housing_factor1.index[1182])"
   ]
  },
  {
   "cell_type": "code",
   "execution_count": 216,
   "metadata": {},
   "outputs": [],
   "source": [
    "# #CHANGING CATEGORICAL FEATURES:\n",
    "# #Alley\n",
    "# #93% of the data is NA\n",
    "housing_factor1 = housing_factor1.drop('Alley', axis = 1)\n",
    "# #BldgType\n",
    "# #Very unbalanced\n",
    "housing_factor1 = housing_factor1.drop('BldgType', axis = 1)\n",
    "# #BsmtFinType1 and BsmtFinType2\n",
    "housing_factor1['testBasementFinType'] = housing_factor1['BsmtFinType1'].astype(str).str.cat(\n",
    "    housing_factor1['BsmtFinType2'].astype(str), sep=' - ')\n",
    "housing_factor1 = housing_factor1.drop('BsmtFinType1', axis = 1)\n",
    "housing_factor1 = housing_factor1.drop('BsmtFinType2', axis = 1)\n",
    "# #Condition2\n",
    "# #99% of the data is Norm\n",
    "housing_factor1 = housing_factor1.drop('Condition2', axis = 1)\n",
    "# ExteriorMaterial\n",
    "housing_factor1['testExteriorMaterial'] = housing_factor1['Exterior1st'].astype(str).str.cat(\n",
    "    housing_factor1['Exterior2nd'].astype(str), sep=' - ')\n",
    "housing_factor1 = housing_factor1.drop('Exterior1st', axis = 1)\n",
    "housing_factor1 = housing_factor1.drop('Exterior2nd', axis = 1)\n",
    "#Fence\n",
    "housing_factor1['HasFence'] = 0\n",
    "housing_factor1.loc[housing_factor1['Fence'] != 'NA','HasFence'] = 1\n",
    "housing_factor1 = housing_factor1.drop('Fence', axis = 1)\n",
    "#Fireplaces\n",
    "#housing_factor1['testFireplaces'] = housing_numeric1['Fireplaces'].astype(str).str.cat(\n",
    "    #housing_factor1['FireplaceQu'].astype(str), sep=' - ')\n",
    "housing_numeric1 = housing_numeric1.drop('Fireplaces', axis = 1)\n",
    "#housing_factor1 = housing_factor1.drop('FireplaceQu', axis = 1)\n",
    "#Garage\n",
    "#housing_factor1 = housing_factor1.drop('GarageQual', axis = 1)\n",
    "housing_factor1 = housing_factor1.drop('GarageCond', axis = 1)\n",
    "# #GarageYrBlt\n",
    "# #Does the garage built year matter? I dont think so. We have quality and condition to assess this.\n",
    "# #I will test dropping it. Or we can use range of years to see if it will improve.\n",
    "housing_factor1 = housing_factor1.drop('GarageYrBlt', axis = 1)\n",
    "# #HouseStyle and MSSubClass MAY CONTAIN THE SAME INFORMATION. WE SHOULD TEST DROPING ONE OF THEM.\n",
    "housing_factor1 = housing_factor1.drop('HouseStyle', axis = 1)\n",
    "# #Misc\n",
    "# #Treated in the numeric variables\n",
    "# #MoSold\n",
    "# #There is no very significant difference between months, but what if we join the year?\n",
    "housing_factor1 = housing_factor1.drop('MoSold', axis = 1)\n",
    "\n",
    "#PoolQuality\n",
    "housing_factor1 = housing_factor1.drop('PoolQC', axis = 1)\n",
    "# #RoofMatl\n",
    "# #99% of the data is CompShg. The other may not be relevant. Dropping it.\n",
    "housing_factor1 = housing_factor1.drop('RoofMatl', axis = 1)\n",
    "# #Street\n",
    "# #Almost 100% is Pave. Dropping it.\n",
    "housing_factor1 = housing_factor1.drop('Street', axis = 1)\n",
    "# #YearBuilt\n",
    "# #It was capped in 1920, but as reference of the house we will use the yearremodeled.\n",
    "# #I will drop the YearBuilt.\n",
    "housing_factor1 = housing_factor1.drop('YearBuilt', axis = 1)\n",
    "# #Should we consider ranges of years instead of the real numbers?\n",
    "housing_factor1['YearRemodAdd'] = housing_factor1['YearRemodAdd'].astype(int, errors='ignore').replace('NA', np.NaN)\n",
    "housing_factor1['RangeYear'] = 10\n",
    "housing_factor1.loc[(housing_factor1['YearRemodAdd'] >= 1950) & \n",
    "                    (housing_factor1['YearRemodAdd'] <= 1960),'RangeYear'] = 0\n",
    "housing_factor1.loc[(housing_factor1['YearRemodAdd'] >= 1961) & \n",
    "                    (housing_factor1['YearRemodAdd'] <= 1970),'RangeYear'] = 1\n",
    "housing_factor1.loc[(housing_factor1['YearRemodAdd'] >= 1971) & \n",
    "                    (housing_factor1['YearRemodAdd'] <= 1980),'RangeYear'] = 2\n",
    "housing_factor1.loc[(housing_factor1['YearRemodAdd'] >= 1981) & \n",
    "                    (housing_factor1['YearRemodAdd'] <= 1990),'RangeYear'] = 3\n",
    "housing_factor1.loc[(housing_factor1['YearRemodAdd'] >= 1991) & \n",
    "                    (housing_factor1['YearRemodAdd'] <= 2000),'RangeYear'] = 4\n",
    "housing_factor1.loc[(housing_factor1['YearRemodAdd'] >= 2001) & \n",
    "                    (housing_factor1['YearRemodAdd'] <= 2003),'RangeYear'] = 5\n",
    "housing_factor1.loc[(housing_factor1['YearRemodAdd'] >= 2004) & \n",
    "                    (housing_factor1['YearRemodAdd'] <= 2006),'RangeYear'] = 6\n",
    "housing_factor1.loc[(housing_factor1['YearRemodAdd'] >= 2007) & \n",
    "                    (housing_factor1['YearRemodAdd'] <= 2009),'RangeYear'] = 7\n",
    "housing_factor1.loc[housing_factor1['YearRemodAdd'] == 2010, 'RangeYear'] = 8\n",
    "housing_factor1 = housing_factor1.drop('YearRemodAdd', axis = 1)\n",
    "# #YrSold\n",
    "# #It does not have impact on the result. It was already droped."
   ]
  },
  {
   "cell_type": "code",
   "execution_count": 217,
   "metadata": {
    "collapsed": true
   },
   "outputs": [],
   "source": [
    "from sklearn.preprocessing import StandardScaler\n",
    "\n",
    "numeric_columns = housing_numeric1.columns\n",
    "std_scalar = StandardScaler()\n",
    "std_scalar.fit(housing_numeric1)\n",
    "housing_numeric1 = std_scalar.transform(housing_numeric1)\n",
    "housing_numeric1 = pd.DataFrame(housing_numeric1, columns = numeric_columns)"
   ]
  },
  {
   "cell_type": "code",
   "execution_count": 218,
   "metadata": {
    "collapsed": true
   },
   "outputs": [],
   "source": [
    "#Getting SalePrice back to the dataframe after standardization\n",
    "housing_numeric1['SalePrice'] = housing_target.values"
   ]
  },
  {
   "cell_type": "code",
   "execution_count": 220,
   "metadata": {},
   "outputs": [],
   "source": [
    "#USE THIS IF YOU REMOVED OUTLIERS\n",
    "#Selecting the numeric from train data\n",
    "housing_numeric1 = housing_numeric1.reset_index().drop('index', axis = 1)\n",
    "housing_factor1 = housing_factor1.reset_index().drop('index', axis = 1)\n",
    "\n",
    "housing_numeric_train = housing_numeric1.iloc[:1457]\n",
    "housing_target_train = housing_numeric_train['SalePrice']\n",
    "housing_target_train2 = np.log(housing_numeric_train['SalePrice'])\n",
    "housing_numeric_train = housing_numeric_train.drop('SalePrice', axis=1)\n",
    "\n",
    "housing_categ = pd.get_dummies(housing_factor1, drop_first=True, dummy_na=False)\n",
    "housing_categ_train = housing_categ.iloc[:1457]\n",
    "\n",
    "housing_num_test = housing_numeric1.iloc[1457:]\n",
    "housing_cat_test = housing_categ.iloc[1457:]\n",
    "\n",
    "#Getting the final train data for the models\n",
    "housing_model = pd.concat([housing_numeric_train, housing_categ_train], axis = 1)\n",
    "housing_model_test = pd.concat([housing_num_test , housing_cat_test],  axis = 1)\n",
    "#housing_test = housing_test.drop('SalePrice', axis = 1)\n",
    "housing_model_test = housing_model_test.drop('SalePrice', axis = 1)\n",
    "housing_model = housing_model.drop('SalePrice', axis = 1)"
   ]
  },
  {
   "cell_type": "code",
   "execution_count": null,
   "metadata": {},
   "outputs": [],
   "source": []
  },
  {
   "cell_type": "code",
   "execution_count": 221,
   "metadata": {},
   "outputs": [
    {
     "ename": "ValueError",
     "evalue": "Input contains NaN, infinity or a value too large for dtype('float64').",
     "output_type": "error",
     "traceback": [
      "\u001b[0;31m---------------------------------------------------------------------------\u001b[0m",
      "\u001b[0;31mValueError\u001b[0m                                Traceback (most recent call last)",
      "\u001b[0;32m<ipython-input-221-2382557f5982>\u001b[0m in \u001b[0;36m<module>\u001b[0;34m()\u001b[0m\n\u001b[1;32m      6\u001b[0m \u001b[0;34m\u001b[0m\u001b[0m\n\u001b[1;32m      7\u001b[0m \u001b[0mclf\u001b[0m \u001b[0;34m=\u001b[0m \u001b[0mSVR\u001b[0m\u001b[0;34m(\u001b[0m\u001b[0mkernel\u001b[0m \u001b[0;34m=\u001b[0m \u001b[0;34m'rbf'\u001b[0m\u001b[0;34m,\u001b[0m \u001b[0mC\u001b[0m\u001b[0;34m=\u001b[0m \u001b[0;36m10\u001b[0m\u001b[0;34m,\u001b[0m \u001b[0mgamma\u001b[0m \u001b[0;34m=\u001b[0m \u001b[0;36m.001\u001b[0m\u001b[0;34m,\u001b[0m \u001b[0mepsilon\u001b[0m \u001b[0;34m=\u001b[0m \u001b[0;36m0.00001\u001b[0m\u001b[0;34m)\u001b[0m\u001b[0;34m\u001b[0m\u001b[0m\n\u001b[0;32m----> 8\u001b[0;31m \u001b[0msvm_cross_scores\u001b[0m \u001b[0;34m=\u001b[0m \u001b[0mcross_val_score\u001b[0m\u001b[0;34m(\u001b[0m\u001b[0mclf\u001b[0m\u001b[0;34m,\u001b[0m \u001b[0mhousing_model\u001b[0m\u001b[0;34m,\u001b[0m \u001b[0mhousing_target_train2\u001b[0m\u001b[0;34m,\u001b[0m \u001b[0mcv\u001b[0m\u001b[0;34m=\u001b[0m\u001b[0;36m5\u001b[0m\u001b[0;34m,\u001b[0m \u001b[0mscoring\u001b[0m \u001b[0;34m=\u001b[0m\u001b[0;34m'neg_mean_squared_error'\u001b[0m\u001b[0;34m)\u001b[0m\u001b[0;34m\u001b[0m\u001b[0m\n\u001b[0m\u001b[1;32m      9\u001b[0m \u001b[0mfinal_crossval\u001b[0m \u001b[0;34m=\u001b[0m \u001b[0mnp\u001b[0m\u001b[0;34m.\u001b[0m\u001b[0msqrt\u001b[0m\u001b[0;34m(\u001b[0m\u001b[0;34m-\u001b[0m\u001b[0msvm_cross_scores\u001b[0m\u001b[0;34m)\u001b[0m\u001b[0;34m\u001b[0m\u001b[0m\n\u001b[1;32m     10\u001b[0m \u001b[0mfinal_crossval\u001b[0m\u001b[0;34m.\u001b[0m\u001b[0mmean\u001b[0m\u001b[0;34m(\u001b[0m\u001b[0;34m)\u001b[0m\u001b[0;34m\u001b[0m\u001b[0m\n",
      "\u001b[0;32m/Users/FlexLex/anaconda/envs/py35/lib/python3.5/site-packages/sklearn/cross_validation.py\u001b[0m in \u001b[0;36mcross_val_score\u001b[0;34m(estimator, X, y, scoring, cv, n_jobs, verbose, fit_params, pre_dispatch)\u001b[0m\n\u001b[1;32m   1569\u001b[0m                                               \u001b[0mtrain\u001b[0m\u001b[0;34m,\u001b[0m \u001b[0mtest\u001b[0m\u001b[0;34m,\u001b[0m \u001b[0mverbose\u001b[0m\u001b[0;34m,\u001b[0m \u001b[0;32mNone\u001b[0m\u001b[0;34m,\u001b[0m\u001b[0;34m\u001b[0m\u001b[0m\n\u001b[1;32m   1570\u001b[0m                                               fit_params)\n\u001b[0;32m-> 1571\u001b[0;31m                       for train, test in cv)\n\u001b[0m\u001b[1;32m   1572\u001b[0m     \u001b[0;32mreturn\u001b[0m \u001b[0mnp\u001b[0m\u001b[0;34m.\u001b[0m\u001b[0marray\u001b[0m\u001b[0;34m(\u001b[0m\u001b[0mscores\u001b[0m\u001b[0;34m)\u001b[0m\u001b[0;34m[\u001b[0m\u001b[0;34m:\u001b[0m\u001b[0;34m,\u001b[0m \u001b[0;36m0\u001b[0m\u001b[0;34m]\u001b[0m\u001b[0;34m\u001b[0m\u001b[0m\n\u001b[1;32m   1573\u001b[0m \u001b[0;34m\u001b[0m\u001b[0m\n",
      "\u001b[0;32m/Users/FlexLex/anaconda/envs/py35/lib/python3.5/site-packages/sklearn/externals/joblib/parallel.py\u001b[0m in \u001b[0;36m__call__\u001b[0;34m(self, iterable)\u001b[0m\n\u001b[1;32m    756\u001b[0m             \u001b[0;31m# was dispatched. In particular this covers the edge\u001b[0m\u001b[0;34m\u001b[0m\u001b[0;34m\u001b[0m\u001b[0m\n\u001b[1;32m    757\u001b[0m             \u001b[0;31m# case of Parallel used with an exhausted iterator.\u001b[0m\u001b[0;34m\u001b[0m\u001b[0;34m\u001b[0m\u001b[0m\n\u001b[0;32m--> 758\u001b[0;31m             \u001b[0;32mwhile\u001b[0m \u001b[0mself\u001b[0m\u001b[0;34m.\u001b[0m\u001b[0mdispatch_one_batch\u001b[0m\u001b[0;34m(\u001b[0m\u001b[0miterator\u001b[0m\u001b[0;34m)\u001b[0m\u001b[0;34m:\u001b[0m\u001b[0;34m\u001b[0m\u001b[0m\n\u001b[0m\u001b[1;32m    759\u001b[0m                 \u001b[0mself\u001b[0m\u001b[0;34m.\u001b[0m\u001b[0m_iterating\u001b[0m \u001b[0;34m=\u001b[0m \u001b[0;32mTrue\u001b[0m\u001b[0;34m\u001b[0m\u001b[0m\n\u001b[1;32m    760\u001b[0m             \u001b[0;32melse\u001b[0m\u001b[0;34m:\u001b[0m\u001b[0;34m\u001b[0m\u001b[0m\n",
      "\u001b[0;32m/Users/FlexLex/anaconda/envs/py35/lib/python3.5/site-packages/sklearn/externals/joblib/parallel.py\u001b[0m in \u001b[0;36mdispatch_one_batch\u001b[0;34m(self, iterator)\u001b[0m\n\u001b[1;32m    606\u001b[0m                 \u001b[0;32mreturn\u001b[0m \u001b[0;32mFalse\u001b[0m\u001b[0;34m\u001b[0m\u001b[0m\n\u001b[1;32m    607\u001b[0m             \u001b[0;32melse\u001b[0m\u001b[0;34m:\u001b[0m\u001b[0;34m\u001b[0m\u001b[0m\n\u001b[0;32m--> 608\u001b[0;31m                 \u001b[0mself\u001b[0m\u001b[0;34m.\u001b[0m\u001b[0m_dispatch\u001b[0m\u001b[0;34m(\u001b[0m\u001b[0mtasks\u001b[0m\u001b[0;34m)\u001b[0m\u001b[0;34m\u001b[0m\u001b[0m\n\u001b[0m\u001b[1;32m    609\u001b[0m                 \u001b[0;32mreturn\u001b[0m \u001b[0;32mTrue\u001b[0m\u001b[0;34m\u001b[0m\u001b[0m\n\u001b[1;32m    610\u001b[0m \u001b[0;34m\u001b[0m\u001b[0m\n",
      "\u001b[0;32m/Users/FlexLex/anaconda/envs/py35/lib/python3.5/site-packages/sklearn/externals/joblib/parallel.py\u001b[0m in \u001b[0;36m_dispatch\u001b[0;34m(self, batch)\u001b[0m\n\u001b[1;32m    569\u001b[0m         \u001b[0mdispatch_timestamp\u001b[0m \u001b[0;34m=\u001b[0m \u001b[0mtime\u001b[0m\u001b[0;34m.\u001b[0m\u001b[0mtime\u001b[0m\u001b[0;34m(\u001b[0m\u001b[0;34m)\u001b[0m\u001b[0;34m\u001b[0m\u001b[0m\n\u001b[1;32m    570\u001b[0m         \u001b[0mcb\u001b[0m \u001b[0;34m=\u001b[0m \u001b[0mBatchCompletionCallBack\u001b[0m\u001b[0;34m(\u001b[0m\u001b[0mdispatch_timestamp\u001b[0m\u001b[0;34m,\u001b[0m \u001b[0mlen\u001b[0m\u001b[0;34m(\u001b[0m\u001b[0mbatch\u001b[0m\u001b[0;34m)\u001b[0m\u001b[0;34m,\u001b[0m \u001b[0mself\u001b[0m\u001b[0;34m)\u001b[0m\u001b[0;34m\u001b[0m\u001b[0m\n\u001b[0;32m--> 571\u001b[0;31m         \u001b[0mjob\u001b[0m \u001b[0;34m=\u001b[0m \u001b[0mself\u001b[0m\u001b[0;34m.\u001b[0m\u001b[0m_backend\u001b[0m\u001b[0;34m.\u001b[0m\u001b[0mapply_async\u001b[0m\u001b[0;34m(\u001b[0m\u001b[0mbatch\u001b[0m\u001b[0;34m,\u001b[0m \u001b[0mcallback\u001b[0m\u001b[0;34m=\u001b[0m\u001b[0mcb\u001b[0m\u001b[0;34m)\u001b[0m\u001b[0;34m\u001b[0m\u001b[0m\n\u001b[0m\u001b[1;32m    572\u001b[0m         \u001b[0mself\u001b[0m\u001b[0;34m.\u001b[0m\u001b[0m_jobs\u001b[0m\u001b[0;34m.\u001b[0m\u001b[0mappend\u001b[0m\u001b[0;34m(\u001b[0m\u001b[0mjob\u001b[0m\u001b[0;34m)\u001b[0m\u001b[0;34m\u001b[0m\u001b[0m\n\u001b[1;32m    573\u001b[0m \u001b[0;34m\u001b[0m\u001b[0m\n",
      "\u001b[0;32m/Users/FlexLex/anaconda/envs/py35/lib/python3.5/site-packages/sklearn/externals/joblib/_parallel_backends.py\u001b[0m in \u001b[0;36mapply_async\u001b[0;34m(self, func, callback)\u001b[0m\n\u001b[1;32m    107\u001b[0m     \u001b[0;32mdef\u001b[0m \u001b[0mapply_async\u001b[0m\u001b[0;34m(\u001b[0m\u001b[0mself\u001b[0m\u001b[0;34m,\u001b[0m \u001b[0mfunc\u001b[0m\u001b[0;34m,\u001b[0m \u001b[0mcallback\u001b[0m\u001b[0;34m=\u001b[0m\u001b[0;32mNone\u001b[0m\u001b[0;34m)\u001b[0m\u001b[0;34m:\u001b[0m\u001b[0;34m\u001b[0m\u001b[0m\n\u001b[1;32m    108\u001b[0m         \u001b[0;34m\"\"\"Schedule a func to be run\"\"\"\u001b[0m\u001b[0;34m\u001b[0m\u001b[0m\n\u001b[0;32m--> 109\u001b[0;31m         \u001b[0mresult\u001b[0m \u001b[0;34m=\u001b[0m \u001b[0mImmediateResult\u001b[0m\u001b[0;34m(\u001b[0m\u001b[0mfunc\u001b[0m\u001b[0;34m)\u001b[0m\u001b[0;34m\u001b[0m\u001b[0m\n\u001b[0m\u001b[1;32m    110\u001b[0m         \u001b[0;32mif\u001b[0m \u001b[0mcallback\u001b[0m\u001b[0;34m:\u001b[0m\u001b[0;34m\u001b[0m\u001b[0m\n\u001b[1;32m    111\u001b[0m             \u001b[0mcallback\u001b[0m\u001b[0;34m(\u001b[0m\u001b[0mresult\u001b[0m\u001b[0;34m)\u001b[0m\u001b[0;34m\u001b[0m\u001b[0m\n",
      "\u001b[0;32m/Users/FlexLex/anaconda/envs/py35/lib/python3.5/site-packages/sklearn/externals/joblib/_parallel_backends.py\u001b[0m in \u001b[0;36m__init__\u001b[0;34m(self, batch)\u001b[0m\n\u001b[1;32m    324\u001b[0m         \u001b[0;31m# Don't delay the application, to avoid keeping the input\u001b[0m\u001b[0;34m\u001b[0m\u001b[0;34m\u001b[0m\u001b[0m\n\u001b[1;32m    325\u001b[0m         \u001b[0;31m# arguments in memory\u001b[0m\u001b[0;34m\u001b[0m\u001b[0;34m\u001b[0m\u001b[0m\n\u001b[0;32m--> 326\u001b[0;31m         \u001b[0mself\u001b[0m\u001b[0;34m.\u001b[0m\u001b[0mresults\u001b[0m \u001b[0;34m=\u001b[0m \u001b[0mbatch\u001b[0m\u001b[0;34m(\u001b[0m\u001b[0;34m)\u001b[0m\u001b[0;34m\u001b[0m\u001b[0m\n\u001b[0m\u001b[1;32m    327\u001b[0m \u001b[0;34m\u001b[0m\u001b[0m\n\u001b[1;32m    328\u001b[0m     \u001b[0;32mdef\u001b[0m \u001b[0mget\u001b[0m\u001b[0;34m(\u001b[0m\u001b[0mself\u001b[0m\u001b[0;34m)\u001b[0m\u001b[0;34m:\u001b[0m\u001b[0;34m\u001b[0m\u001b[0m\n",
      "\u001b[0;32m/Users/FlexLex/anaconda/envs/py35/lib/python3.5/site-packages/sklearn/externals/joblib/parallel.py\u001b[0m in \u001b[0;36m__call__\u001b[0;34m(self)\u001b[0m\n\u001b[1;32m    129\u001b[0m \u001b[0;34m\u001b[0m\u001b[0m\n\u001b[1;32m    130\u001b[0m     \u001b[0;32mdef\u001b[0m \u001b[0m__call__\u001b[0m\u001b[0;34m(\u001b[0m\u001b[0mself\u001b[0m\u001b[0;34m)\u001b[0m\u001b[0;34m:\u001b[0m\u001b[0;34m\u001b[0m\u001b[0m\n\u001b[0;32m--> 131\u001b[0;31m         \u001b[0;32mreturn\u001b[0m \u001b[0;34m[\u001b[0m\u001b[0mfunc\u001b[0m\u001b[0;34m(\u001b[0m\u001b[0;34m*\u001b[0m\u001b[0margs\u001b[0m\u001b[0;34m,\u001b[0m \u001b[0;34m**\u001b[0m\u001b[0mkwargs\u001b[0m\u001b[0;34m)\u001b[0m \u001b[0;32mfor\u001b[0m \u001b[0mfunc\u001b[0m\u001b[0;34m,\u001b[0m \u001b[0margs\u001b[0m\u001b[0;34m,\u001b[0m \u001b[0mkwargs\u001b[0m \u001b[0;32min\u001b[0m \u001b[0mself\u001b[0m\u001b[0;34m.\u001b[0m\u001b[0mitems\u001b[0m\u001b[0;34m]\u001b[0m\u001b[0;34m\u001b[0m\u001b[0m\n\u001b[0m\u001b[1;32m    132\u001b[0m \u001b[0;34m\u001b[0m\u001b[0m\n\u001b[1;32m    133\u001b[0m     \u001b[0;32mdef\u001b[0m \u001b[0m__len__\u001b[0m\u001b[0;34m(\u001b[0m\u001b[0mself\u001b[0m\u001b[0;34m)\u001b[0m\u001b[0;34m:\u001b[0m\u001b[0;34m\u001b[0m\u001b[0m\n",
      "\u001b[0;32m/Users/FlexLex/anaconda/envs/py35/lib/python3.5/site-packages/sklearn/externals/joblib/parallel.py\u001b[0m in \u001b[0;36m<listcomp>\u001b[0;34m(.0)\u001b[0m\n\u001b[1;32m    129\u001b[0m \u001b[0;34m\u001b[0m\u001b[0m\n\u001b[1;32m    130\u001b[0m     \u001b[0;32mdef\u001b[0m \u001b[0m__call__\u001b[0m\u001b[0;34m(\u001b[0m\u001b[0mself\u001b[0m\u001b[0;34m)\u001b[0m\u001b[0;34m:\u001b[0m\u001b[0;34m\u001b[0m\u001b[0m\n\u001b[0;32m--> 131\u001b[0;31m         \u001b[0;32mreturn\u001b[0m \u001b[0;34m[\u001b[0m\u001b[0mfunc\u001b[0m\u001b[0;34m(\u001b[0m\u001b[0;34m*\u001b[0m\u001b[0margs\u001b[0m\u001b[0;34m,\u001b[0m \u001b[0;34m**\u001b[0m\u001b[0mkwargs\u001b[0m\u001b[0;34m)\u001b[0m \u001b[0;32mfor\u001b[0m \u001b[0mfunc\u001b[0m\u001b[0;34m,\u001b[0m \u001b[0margs\u001b[0m\u001b[0;34m,\u001b[0m \u001b[0mkwargs\u001b[0m \u001b[0;32min\u001b[0m \u001b[0mself\u001b[0m\u001b[0;34m.\u001b[0m\u001b[0mitems\u001b[0m\u001b[0;34m]\u001b[0m\u001b[0;34m\u001b[0m\u001b[0m\n\u001b[0m\u001b[1;32m    132\u001b[0m \u001b[0;34m\u001b[0m\u001b[0m\n\u001b[1;32m    133\u001b[0m     \u001b[0;32mdef\u001b[0m \u001b[0m__len__\u001b[0m\u001b[0;34m(\u001b[0m\u001b[0mself\u001b[0m\u001b[0;34m)\u001b[0m\u001b[0;34m:\u001b[0m\u001b[0;34m\u001b[0m\u001b[0m\n",
      "\u001b[0;32m/Users/FlexLex/anaconda/envs/py35/lib/python3.5/site-packages/sklearn/cross_validation.py\u001b[0m in \u001b[0;36m_fit_and_score\u001b[0;34m(estimator, X, y, scorer, train, test, verbose, parameters, fit_params, return_train_score, return_parameters, error_score)\u001b[0m\n\u001b[1;32m   1663\u001b[0m             \u001b[0mestimator\u001b[0m\u001b[0;34m.\u001b[0m\u001b[0mfit\u001b[0m\u001b[0;34m(\u001b[0m\u001b[0mX_train\u001b[0m\u001b[0;34m,\u001b[0m \u001b[0;34m**\u001b[0m\u001b[0mfit_params\u001b[0m\u001b[0;34m)\u001b[0m\u001b[0;34m\u001b[0m\u001b[0m\n\u001b[1;32m   1664\u001b[0m         \u001b[0;32melse\u001b[0m\u001b[0;34m:\u001b[0m\u001b[0;34m\u001b[0m\u001b[0m\n\u001b[0;32m-> 1665\u001b[0;31m             \u001b[0mestimator\u001b[0m\u001b[0;34m.\u001b[0m\u001b[0mfit\u001b[0m\u001b[0;34m(\u001b[0m\u001b[0mX_train\u001b[0m\u001b[0;34m,\u001b[0m \u001b[0my_train\u001b[0m\u001b[0;34m,\u001b[0m \u001b[0;34m**\u001b[0m\u001b[0mfit_params\u001b[0m\u001b[0;34m)\u001b[0m\u001b[0;34m\u001b[0m\u001b[0m\n\u001b[0m\u001b[1;32m   1666\u001b[0m \u001b[0;34m\u001b[0m\u001b[0m\n\u001b[1;32m   1667\u001b[0m     \u001b[0;32mexcept\u001b[0m \u001b[0mException\u001b[0m \u001b[0;32mas\u001b[0m \u001b[0me\u001b[0m\u001b[0;34m:\u001b[0m\u001b[0;34m\u001b[0m\u001b[0m\n",
      "\u001b[0;32m/Users/FlexLex/anaconda/envs/py35/lib/python3.5/site-packages/sklearn/svm/base.py\u001b[0m in \u001b[0;36mfit\u001b[0;34m(self, X, y, sample_weight)\u001b[0m\n\u001b[1;32m    149\u001b[0m         \u001b[0mself\u001b[0m\u001b[0;34m.\u001b[0m\u001b[0m_sparse\u001b[0m \u001b[0;34m=\u001b[0m \u001b[0msparse\u001b[0m \u001b[0;32mand\u001b[0m \u001b[0;32mnot\u001b[0m \u001b[0mcallable\u001b[0m\u001b[0;34m(\u001b[0m\u001b[0mself\u001b[0m\u001b[0;34m.\u001b[0m\u001b[0mkernel\u001b[0m\u001b[0;34m)\u001b[0m\u001b[0;34m\u001b[0m\u001b[0m\n\u001b[1;32m    150\u001b[0m \u001b[0;34m\u001b[0m\u001b[0m\n\u001b[0;32m--> 151\u001b[0;31m         \u001b[0mX\u001b[0m\u001b[0;34m,\u001b[0m \u001b[0my\u001b[0m \u001b[0;34m=\u001b[0m \u001b[0mcheck_X_y\u001b[0m\u001b[0;34m(\u001b[0m\u001b[0mX\u001b[0m\u001b[0;34m,\u001b[0m \u001b[0my\u001b[0m\u001b[0;34m,\u001b[0m \u001b[0mdtype\u001b[0m\u001b[0;34m=\u001b[0m\u001b[0mnp\u001b[0m\u001b[0;34m.\u001b[0m\u001b[0mfloat64\u001b[0m\u001b[0;34m,\u001b[0m \u001b[0morder\u001b[0m\u001b[0;34m=\u001b[0m\u001b[0;34m'C'\u001b[0m\u001b[0;34m,\u001b[0m \u001b[0maccept_sparse\u001b[0m\u001b[0;34m=\u001b[0m\u001b[0;34m'csr'\u001b[0m\u001b[0;34m)\u001b[0m\u001b[0;34m\u001b[0m\u001b[0m\n\u001b[0m\u001b[1;32m    152\u001b[0m         \u001b[0my\u001b[0m \u001b[0;34m=\u001b[0m \u001b[0mself\u001b[0m\u001b[0;34m.\u001b[0m\u001b[0m_validate_targets\u001b[0m\u001b[0;34m(\u001b[0m\u001b[0my\u001b[0m\u001b[0;34m)\u001b[0m\u001b[0;34m\u001b[0m\u001b[0m\n\u001b[1;32m    153\u001b[0m \u001b[0;34m\u001b[0m\u001b[0m\n",
      "\u001b[0;32m/Users/FlexLex/anaconda/envs/py35/lib/python3.5/site-packages/sklearn/utils/validation.py\u001b[0m in \u001b[0;36mcheck_X_y\u001b[0;34m(X, y, accept_sparse, dtype, order, copy, force_all_finite, ensure_2d, allow_nd, multi_output, ensure_min_samples, ensure_min_features, y_numeric, warn_on_dtype, estimator)\u001b[0m\n\u001b[1;32m    525\u001b[0m     \u001b[0;32melse\u001b[0m\u001b[0;34m:\u001b[0m\u001b[0;34m\u001b[0m\u001b[0m\n\u001b[1;32m    526\u001b[0m         \u001b[0my\u001b[0m \u001b[0;34m=\u001b[0m \u001b[0mcolumn_or_1d\u001b[0m\u001b[0;34m(\u001b[0m\u001b[0my\u001b[0m\u001b[0;34m,\u001b[0m \u001b[0mwarn\u001b[0m\u001b[0;34m=\u001b[0m\u001b[0;32mTrue\u001b[0m\u001b[0;34m)\u001b[0m\u001b[0;34m\u001b[0m\u001b[0m\n\u001b[0;32m--> 527\u001b[0;31m         \u001b[0m_assert_all_finite\u001b[0m\u001b[0;34m(\u001b[0m\u001b[0my\u001b[0m\u001b[0;34m)\u001b[0m\u001b[0;34m\u001b[0m\u001b[0m\n\u001b[0m\u001b[1;32m    528\u001b[0m     \u001b[0;32mif\u001b[0m \u001b[0my_numeric\u001b[0m \u001b[0;32mand\u001b[0m \u001b[0my\u001b[0m\u001b[0;34m.\u001b[0m\u001b[0mdtype\u001b[0m\u001b[0;34m.\u001b[0m\u001b[0mkind\u001b[0m \u001b[0;34m==\u001b[0m \u001b[0;34m'O'\u001b[0m\u001b[0;34m:\u001b[0m\u001b[0;34m\u001b[0m\u001b[0m\n\u001b[1;32m    529\u001b[0m         \u001b[0my\u001b[0m \u001b[0;34m=\u001b[0m \u001b[0my\u001b[0m\u001b[0;34m.\u001b[0m\u001b[0mastype\u001b[0m\u001b[0;34m(\u001b[0m\u001b[0mnp\u001b[0m\u001b[0;34m.\u001b[0m\u001b[0mfloat64\u001b[0m\u001b[0;34m)\u001b[0m\u001b[0;34m\u001b[0m\u001b[0m\n",
      "\u001b[0;32m/Users/FlexLex/anaconda/envs/py35/lib/python3.5/site-packages/sklearn/utils/validation.py\u001b[0m in \u001b[0;36m_assert_all_finite\u001b[0;34m(X)\u001b[0m\n\u001b[1;32m     56\u001b[0m             and not np.isfinite(X).all()):\n\u001b[1;32m     57\u001b[0m         raise ValueError(\"Input contains NaN, infinity\"\n\u001b[0;32m---> 58\u001b[0;31m                          \" or a value too large for %r.\" % X.dtype)\n\u001b[0m\u001b[1;32m     59\u001b[0m \u001b[0;34m\u001b[0m\u001b[0m\n\u001b[1;32m     60\u001b[0m \u001b[0;34m\u001b[0m\u001b[0m\n",
      "\u001b[0;31mValueError\u001b[0m: Input contains NaN, infinity or a value too large for dtype('float64')."
     ]
    }
   ],
   "source": [
    "import numpy as np\n",
    "from sklearn.pipeline import Pipeline\n",
    "from sklearn.preprocessing import StandardScaler\n",
    "from sklearn.svm import SVR\n",
    "from sklearn.cross_validation import cross_val_score\n",
    "\n",
    "clf = SVR(kernel = 'rbf', C= 10, gamma = .001, epsilon = 0.00001)\n",
    "svm_cross_scores = cross_val_score(clf, housing_model, housing_target_train2, cv=5, scoring ='neg_mean_squared_error')\n",
    "final_crossval = np.sqrt(-svm_cross_scores)\n",
    "final_crossval.mean()"
   ]
  },
  {
   "cell_type": "code",
   "execution_count": 118,
   "metadata": {},
   "outputs": [
    {
     "data": {
      "text/plain": [
       "SVR(C=10, cache_size=200, coef0=0.0, degree=3, epsilon=5e-05, gamma=0.001,\n",
       "  kernel='rbf', max_iter=-1, shrinking=True, tol=0.001, verbose=False)"
      ]
     },
     "execution_count": 118,
     "metadata": {},
     "output_type": "execute_result"
    }
   ],
   "source": [
    "clf.fit(housing_model, housing_target_train2)"
   ]
  },
  {
   "cell_type": "code",
   "execution_count": 119,
   "metadata": {
    "collapsed": true
   },
   "outputs": [],
   "source": [
    "y_pred2 = clf.predict(housing_model)"
   ]
  },
  {
   "cell_type": "code",
   "execution_count": 120,
   "metadata": {},
   "outputs": [
    {
     "name": "stdout",
     "output_type": "stream",
     "text": [
      "0.00847185984454\n",
      "0.100564009411\n"
     ]
    }
   ],
   "source": [
    "from sklearn.metrics import mean_squared_error\n",
    "print(np.sqrt(mean_squared_error(np.log(housing_target_train2), np.log(y_pred2))))\n",
    "print(np.sqrt(mean_squared_error(housing_target_train2, y_pred2)))"
   ]
  },
  {
   "cell_type": "code",
   "execution_count": 61,
   "metadata": {
    "collapsed": true
   },
   "outputs": [],
   "source": [
    "test_pred = np.exp(clf.predict(housing_model_test))"
   ]
  },
  {
   "cell_type": "code",
   "execution_count": 36,
   "metadata": {
    "collapsed": true
   },
   "outputs": [],
   "source": [
    "SVRSubmission2 = pd.DataFrame({'Id': test_ID,\n",
    "                               'SalePrice': test_pred})\n",
    "SVRSubmission2.to_csv(\"SVRSubmission2.csv\", index = False)"
   ]
  },
  {
   "cell_type": "code",
   "execution_count": 29,
   "metadata": {},
   "outputs": [
    {
     "name": "stdout",
     "output_type": "stream",
     "text": [
      "\u001b[31mInitialization\u001b[0m\n",
      "\u001b[94m-----------------------------------------------------------------\u001b[0m\n",
      " Step |   Time |      Value |         C |   epsilon |     gamma | \n",
      "    1 | 00m03s | \u001b[35m  -0.02029\u001b[0m | \u001b[32m   1.6470\u001b[0m | \u001b[32m   0.0198\u001b[0m | \u001b[32m   0.0008\u001b[0m | \n",
      "    2 | 00m00s |   -0.02266 |    1.5662 |    0.1824 |    0.0009 | \n",
      "    3 | 00m00s | \u001b[35m  -0.01990\u001b[0m | \u001b[32m   5.5442\u001b[0m | \u001b[32m   0.1799\u001b[0m | \u001b[32m   0.0009\u001b[0m | \n",
      "    4 | 00m03s |   -0.03078 |    2.2807 |    0.0103 |    0.0000 | \n",
      "    5 | 00m01s |   -0.02344 |    9.8208 |    0.0884 |    0.0000 | \n",
      "\u001b[31mBayesian Optimization\u001b[0m\n",
      "\u001b[94m-----------------------------------------------------------------\u001b[0m\n",
      " Step |   Time |      Value |         C |   epsilon |     gamma | \n",
      "    6 | 00m17s | \u001b[35m  -0.01957\u001b[0m | \u001b[32m   7.8200\u001b[0m | \u001b[32m   0.0000\u001b[0m | \u001b[32m   0.0002\u001b[0m | \n",
      "    7 | 00m07s |   -0.15785 |    1.0000 |    0.0000 |    0.0000 | \n",
      "    8 | 00m05s |   -0.02063 |    6.7264 |    0.2000 |    0.0010 | \n",
      "    9 | 00m05s |   -0.02032 |    8.7999 |    0.2000 |    0.0010 | \n",
      "   10 | 00m06s |   -0.02104 |    4.1994 |    0.2000 |    0.0010 | \n",
      "   11 | 00m09s | \u001b[35m  -0.01647\u001b[0m | \u001b[32m   4.7872\u001b[0m | \u001b[32m   0.0000\u001b[0m | \u001b[32m   0.0010\u001b[0m | \n",
      "   12 | 00m09s | \u001b[35m  -0.01557\u001b[0m | \u001b[32m   9.1471\u001b[0m | \u001b[32m   0.0000\u001b[0m | \u001b[32m   0.0010\u001b[0m | \n",
      "   13 | 00m10s |   -0.01594 |    6.2327 |    0.0000 |    0.0010 | \n",
      "   14 | 00m09s |   -0.01579 |    7.0716 |    0.0000 |    0.0010 | \n",
      "   15 | 00m06s |   -0.02314 |    1.9852 |    0.2000 |    0.0010 | \n",
      "   16 | 00m09s |   -0.01691 |    3.6462 |    0.0000 |    0.0010 | \n",
      "   17 | 00m10s | \u001b[35m  -0.01549\u001b[0m | \u001b[32m  10.0000\u001b[0m | \u001b[32m   0.0000\u001b[0m | \u001b[32m   0.0010\u001b[0m | \n",
      "   18 | 00m08s |   -0.15530 |    4.1617 |    0.0000 |    0.0000 | \n",
      "   19 | 00m07s |   -0.02137 |    3.0987 |    0.2000 |    0.0010 | \n",
      "   20 | 00m06s |   -0.02104 |    4.9274 |    0.2000 |    0.0010 | \n"
     ]
    }
   ],
   "source": [
    "from bayes_opt import BayesianOptimization\n",
    "from sklearn.cross_validation import cross_val_score\n",
    "from sklearn import ensemble\n",
    "from sklearn import svm\n",
    "\n",
    "def baysvr2(C, gamma, epsilon):\n",
    "    return cross_val_score(\n",
    "       svm.SVR(\n",
    "       C = int(C),\n",
    "       gamma = float(gamma),\n",
    "       epsilon = float(epsilon)),\n",
    "       housing_model, housing_target_train2, 'neg_mean_squared_error', cv = 5\n",
    "   ).mean()\n",
    "\n",
    "svrBo2 = BayesianOptimization(baysvr2,\n",
    "                           {\n",
    "                            'C' : (1,10),\n",
    "                            'gamma' : (1e-7, 1e-3),\n",
    "                            'epsilon' : (0.00001, 0.2)\n",
    "                           }\n",
    "                           )\n",
    "\n",
    "svrBo2.maximize(n_iter = 15)"
   ]
  },
  {
   "cell_type": "code",
   "execution_count": 30,
   "metadata": {},
   "outputs": [
    {
     "data": {
      "text/plain": [
       "{'max_params': {'C': 10.0, 'epsilon': 1.0000000000000001e-05, 'gamma': 0.001},\n",
       " 'max_val': -0.01548933705975874}"
      ]
     },
     "execution_count": 30,
     "metadata": {},
     "output_type": "execute_result"
    }
   ],
   "source": [
    "svrBo2.res['max']"
   ]
  },
  {
   "cell_type": "code",
   "execution_count": 121,
   "metadata": {},
   "outputs": [
    {
     "name": "stdout",
     "output_type": "stream",
     "text": [
      "Fitting 3 folds for each of 12 candidates, totalling 36 fits\n"
     ]
    },
    {
     "name": "stderr",
     "output_type": "stream",
     "text": [
      "[Parallel(n_jobs=1)]: Done  36 out of  36 | elapsed:   19.9s finished\n"
     ]
    },
    {
     "data": {
      "text/plain": [
       "GridSearchCV(cv=None, error_score='raise',\n",
       "       estimator=SVR(C=1.0, cache_size=200, coef0=0.0, degree=3, epsilon=0.1, gamma='auto',\n",
       "  kernel='rbf', max_iter=-1, shrinking=True, tol=0.001, verbose=False),\n",
       "       fit_params={}, iid=True, n_jobs=1,\n",
       "       param_grid={'C': [1, 5, 10], 'epsilon': [1e-05, 0.2], 'kernel': ['rbf'], 'gamma': [1e-07, 0.001]},\n",
       "       pre_dispatch='2*n_jobs', refit=True, return_train_score=True,\n",
       "       scoring=None, verbose=1)"
      ]
     },
     "execution_count": 121,
     "metadata": {},
     "output_type": "execute_result"
    }
   ],
   "source": [
    "from sklearn import svm\n",
    "from sklearn.model_selection import GridSearchCV\n",
    "from sklearn.feature_selection import SelectKBest\n",
    "parameters = {'kernel':['rbf'], 'C':[1,5,10], 'gamma':[1e-7, 1e-3],'epsilon':[0.00001,0.2]}\n",
    "svc1 = svm.SVR()\n",
    "clf1 = GridSearchCV(svc1, parameters, verbose = 1)\n",
    "clf1.fit(housing_model, housing_target_train2)"
   ]
  },
  {
   "cell_type": "code",
   "execution_count": 122,
   "metadata": {},
   "outputs": [
    {
     "data": {
      "text/plain": [
       "{'C': 10, 'epsilon': 1e-05, 'gamma': 0.001, 'kernel': 'rbf'}"
      ]
     },
     "execution_count": 122,
     "metadata": {},
     "output_type": "execute_result"
    }
   ],
   "source": [
    "clf1.best_params_"
   ]
  },
  {
   "cell_type": "code",
   "execution_count": 126,
   "metadata": {},
   "outputs": [
    {
     "data": {
      "text/plain": [
       "4     0.128707\n",
       "5     0.128603\n",
       "6     0.128596\n",
       "7     0.128653\n",
       "8     0.128753\n",
       "9     0.128883\n",
       "10    0.129035\n",
       "11    0.129202\n",
       "12    0.129380\n",
       "13    0.129566\n",
       "14    0.129757\n",
       "15    0.129951\n",
       "16    0.130147\n",
       "17    0.130344\n",
       "18    0.130541\n",
       "19    0.130738\n",
       "20    0.130934\n",
       "dtype: float64"
      ]
     },
     "execution_count": 126,
     "metadata": {},
     "output_type": "execute_result"
    },
    {
     "data": {
      "image/png": "[encoded data removed]",
      "text/plain": [
       "<matplotlib.figure.Figure at 0x112e4b6d8>"
      ]
     },
     "metadata": {},
     "output_type": "display_data"
    }
   ],
   "source": [
    "#Getting best alpha for ridge\n",
    "from sklearn.model_selection import cross_val_score, cross_val_predict\n",
    "from sklearn import linear_model\n",
    "\n",
    "def rmse_cv(model):\n",
    "    rmse= np.sqrt(-cross_val_score(model, housing_model, housing_target_train2, scoring=\"neg_mean_squared_error\", cv = 5))\n",
    "    return(rmse)\n",
    "\n",
    "alphas = [4,5,6, 7, 8, 9, 10, 11, 12, 13, 14, 15, 16, 17, 18, 19, 20]\n",
    "cv_ridge = [rmse_cv(linear_model.Ridge(alpha = alpha)).mean() for alpha in alphas]\n",
    "\n",
    "cv_ridge = pd.Series(cv_ridge, index = alphas)\n",
    "cv_ridge.plot(title = \"Validation\")\n",
    "plt.xlabel(\"alpha\")\n",
    "plt.ylabel(\"rmse\")\n",
    "#alpha = 16 is the best option\n",
    "cv_ridge"
   ]
  },
  {
   "cell_type": "code",
   "execution_count": 39,
   "metadata": {},
   "outputs": [
    {
     "name": "stdout",
     "output_type": "stream",
     "text": [
      "Ridge_RMSLE: 0.12895177389\n",
      "Lasso_RMSLE: 28841.8092095\n",
      "Elastic_RMSLE: 0.258383882553\n",
      "Linear_RMSLE: 3179250688.95\n"
     ]
    }
   ],
   "source": [
    "#TO TEST DIFFERENT FEATURES\n",
    "\n",
    "#RIDGE\n",
    "ridge = linear_model.Ridge(alpha = 16)\n",
    "ridge_scores = cross_val_score(ridge, housing_model, housing_target_train2, scoring='neg_mean_squared_error', cv = 5)\n",
    "ridge_scores = np.sqrt(-ridge_scores)\n",
    "print('Ridge_RMSLE:', ridge_scores.mean())\n",
    "\n",
    "#LASSO\n",
    "lasso = linear_model.Lasso(alpha = 142)\n",
    "lasso_scores = cross_val_score(lasso, housing_model, housing_target_train, scoring='neg_mean_squared_error', cv = 5)\n",
    "lasso_scores = np.sqrt(-lasso_scores)\n",
    "print('Lasso_RMSLE:', lasso_scores.mean())\n",
    "\n",
    "#ELASTICNET\n",
    "elastic = linear_model.ElasticNet(alpha = 1, l1_ratio = 0.1)\n",
    "elastic_scores = cross_val_score(elastic, housing_model, housing_target_train2, scoring='neg_mean_squared_error', cv = 5)\n",
    "elastic_scores = np.sqrt(-elastic_scores)\n",
    "elastic_scores\n",
    "print('Elastic_RMSLE:', elastic_scores.mean())\n",
    "\n",
    "#SIMPLE\n",
    "lin_reg = linear_model.LinearRegression()\n",
    "lin_scores = cross_val_score(lin_reg, housing_model, housing_target_train2, scoring='neg_mean_squared_error', cv = 5)\n",
    "lin_scores = np.sqrt(-lin_scores)\n",
    "lin_scores\n",
    "print('Linear_RMSLE:', lin_scores.mean())"
   ]
  },
  {
   "cell_type": "code",
   "execution_count": 127,
   "metadata": {},
   "outputs": [
    {
     "data": {
      "text/plain": [
       "array([ 0.11067426,  0.13755229,  0.12432904,  0.11785823,  0.15256498])"
      ]
     },
     "execution_count": 127,
     "metadata": {},
     "output_type": "execute_result"
    }
   ],
   "source": [
    "ridge = linear_model.Ridge(alpha = 6)\n",
    "ridge_scores = cross_val_score(ridge, housing_model, housing_target_train2, scoring='neg_mean_squared_error', cv = 5)\n",
    "ridge_scores = np.sqrt(-ridge_scores)\n",
    "ridge_predictions = cross_val_predict(ridge, housing_model, housing_target_train2, cv = 5)\n",
    "ridge.fit(housing_model, housing_target_train2)\n",
    "ridge_scores"
   ]
  },
  {
   "cell_type": "code",
   "execution_count": 128,
   "metadata": {},
   "outputs": [
    {
     "data": {
      "text/plain": [
       "0.12859576050512589"
      ]
     },
     "execution_count": 128,
     "metadata": {},
     "output_type": "execute_result"
    }
   ],
   "source": [
    "ridge_scores.mean()"
   ]
  },
  {
   "cell_type": "code",
   "execution_count": 62,
   "metadata": {
    "collapsed": true
   },
   "outputs": [],
   "source": [
    "svrridge = (test_pred*.5) + (ridge5_pred*5)"
   ]
  },
  {
   "cell_type": "code",
   "execution_count": 65,
   "metadata": {
    "collapsed": true
   },
   "outputs": [],
   "source": [
    "ridge5_pred = np.exp(ridge.predict(housing_model_test))"
   ]
  },
  {
   "cell_type": "code",
   "execution_count": 67,
   "metadata": {
    "collapsed": true
   },
   "outputs": [],
   "source": [
    "svrridge = (test_pred + ridge5_pred) / 2"
   ]
  },
  {
   "cell_type": "code",
   "execution_count": 69,
   "metadata": {
    "collapsed": true
   },
   "outputs": [],
   "source": [
    "shubh = pd.read_csv('~/Downloads/GBSubmission_1094.csv')"
   ]
  },
  {
   "cell_type": "code",
   "execution_count": 70,
   "metadata": {
    "collapsed": true
   },
   "outputs": [],
   "source": [
    "shubh_prices = shubh['SalePrice']"
   ]
  },
  {
   "cell_type": "code",
   "execution_count": 71,
   "metadata": {
    "collapsed": true
   },
   "outputs": [],
   "source": [
    "avgall = (shubh_prices + test_pred + ridge5_pred) / 3"
   ]
  },
  {
   "cell_type": "code",
   "execution_count": null,
   "metadata": {
    "collapsed": true
   },
   "outputs": [],
   "source": []
  },
  {
   "cell_type": "code",
   "execution_count": null,
   "metadata": {
    "collapsed": true
   },
   "outputs": [],
   "source": []
  },
  {
   "cell_type": "code",
   "execution_count": null,
   "metadata": {
    "collapsed": true
   },
   "outputs": [],
   "source": []
  },
  {
   "cell_type": "code",
   "execution_count": null,
   "metadata": {
    "collapsed": true
   },
   "outputs": [],
   "source": [
    "from sklearn linear_model\n",
    "stacker= linear_model.LinearRegression()\n",
    "stacker.fit([test_pred, ridge_predictions], housing_target_train)"
   ]
  },
  {
   "cell_type": "code",
   "execution_count": null,
   "metadata": {
    "collapsed": true
   },
   "outputs": [],
   "source": []
  },
  {
   "cell_type": "code",
   "execution_count": 72,
   "metadata": {
    "collapsed": true
   },
   "outputs": [],
   "source": [
    "avg_submission10 = pd.DataFrame({'Id': test_ID, 'SalePrice': avgall})\n",
    "avg_submission10.to_csv('Avg_submission10.csv', index = False)"
   ]
  },
  {
   "cell_type": "code",
   "execution_count": null,
   "metadata": {
    "collapsed": true
   },
   "outputs": [],
   "source": [
    "## DO NOT USE FROM THIS POINT ##"
   ]
  },
  {
   "cell_type": "code",
   "execution_count": null,
   "metadata": {
    "collapsed": true
   },
   "outputs": [],
   "source": [
    "# Transform the skewed numeric features by taking log(feature + 1).\n",
    "# This will make the features more normal.\n",
    "from scipy.stats import skew\n",
    "\n",
    "skewed = train_df_munged[numeric_features].apply(lambda x: skew(x.dropna().astype(float)))\n",
    "skewed = skewed[skewed > 0.75]\n",
    "skewed = skewed.index\n",
    "\n",
    "train_df_munged[skewed] = np.log1p(train_df_munged[skewed])\n",
    "test_df_munged[skewed] = np.log1p(test_df_munged[skewed])\n",
    "\n",
    "# Additional processing: scale the data.   \n",
    "from sklearn.preprocessing import StandardScaler\n",
    "scaler = StandardScaler()\n",
    "scaler.fit(train_df_munged[numeric_features])\n",
    "\n",
    "scaled = scaler.transform(train_df_munged[numeric_features])\n",
    "for i, col in enumerate(numeric_features):\n",
    "    train_df_munged[col] = scaled[:, i]\n",
    "\n",
    "scaled = scaler.transform(test_df_munged[numeric_features])\n",
    "for i, col in enumerate(numeric_features):\n",
    "    test_df_munged[col] = scaled[:, i]"
   ]
  },
  {
   "cell_type": "code",
   "execution_count": 226,
   "metadata": {
    "collapsed": true
   },
   "outputs": [],
   "source": [
    "from sklearn import datasets\n",
    "import numpy as np\n",
    "import pprint\n",
    "model_var = dict(zip(housing_model.columns, np.var(pd.DataFrame.as_matrix(housing_model).data, 0)))\n",
    "A = pd.DataFrame([model_var.get(a) for a in housing_model.columns])\n",
    "A = pd.concat([A,pd.DataFrame(housing_model.columns)],axis = 1)\n",
    "A.columns = ['Variance','Feature']\n",
    "drop_features2 = A.loc[A['Variance'] < 0.05,'Feature']\n",
    "drop_features2 = drop_features2.tolist()"
   ]
  },
  {
   "cell_type": "code",
   "execution_count": 227,
   "metadata": {
    "collapsed": true
   },
   "outputs": [],
   "source": [
    "housing_model2 = housing_model.drop(drop_features2, axis = 1)\n",
    "housing_model_test2 = housing_model_test.drop(drop_features2, axis = 1)"
   ]
  }
 ],
 "metadata": {
  "kernelspec": {
   "display_name": "Python 3",
   "language": "python",
   "name": "python3"
  },
  "language_info": {
   "codemirror_mode": {
    "name": "ipython",
    "version": 3
   },
   "file_extension": ".py",
   "mimetype": "text/x-python",
   "name": "python",
   "nbconvert_exporter": "python",
   "pygments_lexer": "ipython3",
   "version": "3.5.3"
  }
 },
 "nbformat": 4,
 "nbformat_minor": 2
}
